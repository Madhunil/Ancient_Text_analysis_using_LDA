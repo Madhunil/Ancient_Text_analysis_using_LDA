{
  "nbformat": 4,
  "nbformat_minor": 0,
  "metadata": {
    "colab": {
      "name": "Scrapper.ipynb",
      "provenance": []
    },
    "kernelspec": {
      "name": "python3",
      "display_name": "Python 3"
    },
    "language_info": {
      "name": "python"
    }
  },
  "cells": [
    {
      "cell_type": "code",
      "metadata": {
        "colab": {
          "base_uri": "https://localhost:8080/"
        },
        "id": "oS20bok2-OJr",
        "outputId": "8053cdad-aeee-4a61-f7d8-cae77f345758"
      },
      "source": [
        "pip install beautifulsoup4\n"
      ],
      "execution_count": 1,
      "outputs": [
        {
          "output_type": "stream",
          "name": "stdout",
          "text": [
            "Requirement already satisfied: beautifulsoup4 in /usr/local/lib/python3.7/dist-packages (4.6.3)\n"
          ]
        }
      ]
    },
    {
      "cell_type": "code",
      "metadata": {
        "id": "dyuH-tfsA3LC"
      },
      "source": [
        "import requests\n",
        "from bs4 import BeautifulSoup"
      ],
      "execution_count": 2,
      "outputs": []
    },
    {
      "cell_type": "code",
      "metadata": {
        "id": "rbFklGIkMD7l"
      },
      "source": [
        "def get_links(base_url,start_index,end_index):\n",
        "  urls=[]\n",
        "  for i in range(start_index,end_index+1):\n",
        "    temp=base_url+str(i)+\".htm\"\n",
        "    urls.append(temp)\n",
        "  return urls"
      ],
      "execution_count": 6,
      "outputs": []
    },
    {
      "cell_type": "code",
      "metadata": {
        "id": "wlvGjEQbGTAC"
      },
      "source": [
        "def scrape_p_1(url):\n",
        "  page = requests.get(url)\n",
        "  soup = BeautifulSoup(page.content, \"html.parser\")\n",
        "  text = soup.find_all('p')[1].prettify()\n",
        "  my_list = [i.replace('<br>', '').replace('<br/>', '').replace('<p>', '').replace('</p>', '') for i in text.split()]\n",
        "  return ' '.join(my_list)\n"
      ],
      "execution_count": 7,
      "outputs": []
    },
    {
      "cell_type": "code",
      "metadata": {
        "id": "qIC9e6NhLrj3"
      },
      "source": [
        "def get_text_list(urls):\n",
        "  all_text=[]\n",
        "  for url in urls:\n",
        "    all_text.append(scrape_p_1(url))\n",
        "  return all_text"
      ],
      "execution_count": 8,
      "outputs": []
    },
    {
      "cell_type": "code",
      "metadata": {
        "id": "YD5PRBRCQXde"
      },
      "source": [
        "def get_text_list2(urls):\n",
        "  all_text=''\n",
        "  for url in urls:\n",
        "    all_text = all_text + scrape_p_1(url)+\"\\n\"\n",
        "  return all_text"
      ],
      "execution_count": 9,
      "outputs": []
    },
    {
      "cell_type": "code",
      "metadata": {
        "id": "k_PbjxWMQ-KQ"
      },
      "source": [
        "# textfile = open(\"rigved_full_eng.txt\", \"w\")\n",
        "# for element in b:\n",
        "#     textfile.write(element)\n",
        "# textfile.close()"
      ],
      "execution_count": 11,
      "outputs": []
    },
    {
      "cell_type": "code",
      "metadata": {
        "id": "N7_kEpZVQhsH"
      },
      "source": [
        "# links = get_links('https://www.sacred-texts.com/hin/rigveda/rv0',1001,1191)\n",
        "# b = get_text_list2(links)\n",
        "# # full_book.append(b)\n",
        "# b"
      ],
      "execution_count": 10,
      "outputs": []
    },
    {
      "cell_type": "code",
      "metadata": {
        "id": "uuMAWValNo6g"
      },
      "source": [
        "full_book=[]"
      ],
      "execution_count": 12,
      "outputs": []
    },
    {
      "cell_type": "code",
      "metadata": {
        "id": "TiHK6f89L_3Y"
      },
      "source": [
        "links = get_links('https://www.sacred-texts.com/hin/rigveda/rv0',1001,1191)\n",
        "book1 = get_text_list2(links)\n",
        "full_book.append(book1)\n",
        "# book1\n",
        "\n",
        "links = get_links('https://www.sacred-texts.com/hin/rigveda/rv0',2001,2043)\n",
        "book2 = get_text_list2(links)\n",
        "full_book.append(book2)\n",
        "# book2\n",
        "\n",
        "links = get_links('https://www.sacred-texts.com/hin/rigveda/rv0',3001,3062)\n",
        "book3 = get_text_list2(links)\n",
        "full_book.append(book3)\n",
        "# book3\n",
        "\n",
        "links = get_links('https://www.sacred-texts.com/hin/rigveda/rv0',4001,4058)\n",
        "book4 = get_text_list2(links)\n",
        "full_book.append(book4)\n",
        "# book4\n",
        "\n",
        "links = get_links('https://www.sacred-texts.com/hin/rigveda/rv0',5001,5087)\n",
        "book5 = get_text_list2(links)\n",
        "full_book.append(book5)\n",
        "# book5\n",
        "\n",
        "links = get_links('https://www.sacred-texts.com/hin/rigveda/rv0',6001,6075)\n",
        "book6 = get_text_list2(links)\n",
        "full_book.append(book6)\n",
        "# book6\n",
        "\n",
        "links = get_links('https://www.sacred-texts.com/hin/rigveda/rv0',7001,7104)\n",
        "book7 = get_text_list2(links)\n",
        "full_book.append(book7)\n",
        "# book7\n",
        "\n",
        "links = get_links('https://www.sacred-texts.com/hin/rigveda/rv0',8001,8103)\n",
        "book8 = get_text_list2(links)\n",
        "full_book.append(book8)\n",
        "# book8\n",
        "\n",
        "links = get_links('https://www.sacred-texts.com/hin/rigveda/rv0',9001,9114)\n",
        "book9 = get_text_list2(links)\n",
        "full_book.append(book9)\n",
        "# book9\n",
        "\n",
        "links = get_links('https://www.sacred-texts.com/hin/rigveda/rv',10001,10191)\n",
        "book10 = get_text_list2(links)\n",
        "full_book.append(book10)\n",
        "# book10"
      ],
      "execution_count": null,
      "outputs": []
    },
    {
      "cell_type": "code",
      "metadata": {
        "id": "_2LOWdXRPsAf"
      },
      "source": [
        "textfile = open(\"rigved_full_eng.txt\", \"w\")\n",
        "for element in full_book:\n",
        "    textfile.write(element+ \"\\n\\n\\n\\n\")\n",
        "textfile.close()"
      ],
      "execution_count": 27,
      "outputs": []
    },
    {
      "cell_type": "code",
      "metadata": {
        "id": "NaOu7zOTSZEs"
      },
      "source": [
        "# full_book[0]"
      ],
      "execution_count": null,
      "outputs": []
    },
    {
      "cell_type": "code",
      "metadata": {
        "id": "qI7KzC4aGtcs"
      },
      "source": [
        "# urls=[]\n",
        "# #all_text=[]\n",
        "# base_url=\"https://www.sacred-texts.com/hin/rigveda/rv0\"\n",
        "# for i in range(1001,1191):\n",
        "#   temp=base_url+str(i)+\".htm\"\n",
        "#   urls.append(temp)\n",
        "#   #all_text.append(scrape_p_1(temp))"
      ],
      "execution_count": 25,
      "outputs": []
    },
    {
      "cell_type": "code",
      "metadata": {
        "id": "-AM6NZqBJ0oL"
      },
      "source": [
        "# all_text=[]\n",
        "# for url in urls:\n",
        "#   all_text.append(scrape_p_1(url))\n"
      ],
      "execution_count": 26,
      "outputs": []
    }
  ]
}