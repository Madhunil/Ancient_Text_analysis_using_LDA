{
 "cells": [
  {
   "cell_type": "code",
   "execution_count": 1,
   "metadata": {
    "colab": {
     "base_uri": "https://localhost:8080/"
    },
    "id": "oS20bok2-OJr",
    "outputId": "8053cdad-aeee-4a61-f7d8-cae77f345758"
   },
   "outputs": [
    {
     "name": "stdout",
     "output_type": "stream",
     "text": [
      "Requirement already satisfied: beautifulsoup4 in /usr/local/lib/python3.7/dist-packages (4.6.3)\n"
     ]
    }
   ],
   "source": [
    "pip install beautifulsoup4\n"
   ]
  },
  {
   "cell_type": "code",
   "execution_count": 2,
   "metadata": {
    "id": "dyuH-tfsA3LC"
   },
   "outputs": [],
   "source": [
    "import requests\n",
    "from bs4 import BeautifulSoup"
   ]
  },
  {
   "cell_type": "code",
   "execution_count": 6,
   "metadata": {
    "id": "rbFklGIkMD7l"
   },
   "outputs": [],
   "source": [
    "def get_links(base_url,start_index,end_index):\n",
    "  urls=[]\n",
    "  for i in range(start_index,end_index+1):\n",
    "    temp=base_url+str(i)+\".htm\"\n",
    "    urls.append(temp)\n",
    "  return urls"
   ]
  },
  {
   "cell_type": "code",
   "execution_count": 7,
   "metadata": {
    "id": "wlvGjEQbGTAC"
   },
   "outputs": [],
   "source": [
    "def scrape_p_1(url):\n",
    "  page = requests.get(url)\n",
    "  soup = BeautifulSoup(page.content, \"html.parser\")\n",
    "  text = soup.find_all('p')[1].prettify()\n",
    "  my_list = [i.replace('<br>', '').replace('<br/>', '').replace('<p>', '').replace('</p>', '') for i in text.split()]\n",
    "  return ' '.join(my_list)\n"
   ]
  },
  {
   "cell_type": "code",
   "execution_count": 8,
   "metadata": {
    "id": "qIC9e6NhLrj3"
   },
   "outputs": [],
   "source": [
    "def get_text_list(urls):\n",
    "  all_text=[]\n",
    "  for url in urls:\n",
    "    all_text.append(scrape_p_1(url))\n",
    "  return all_text"
   ]
  },
  {
   "cell_type": "code",
   "execution_count": 9,
   "metadata": {
    "id": "YD5PRBRCQXde"
   },
   "outputs": [],
   "source": [
    "def get_text_list2(urls):\n",
    "  all_text=''\n",
    "  for url in urls:\n",
    "    all_text = all_text + scrape_p_1(url)+\"\\n\"\n",
    "  return all_text"
   ]
  },
  {
   "cell_type": "code",
   "execution_count": 11,
   "metadata": {
    "id": "k_PbjxWMQ-KQ"
   },
   "outputs": [],
   "source": [
    "# textfile = open(\"rigved_full_eng.txt\", \"w\")\n",
    "# for element in b:\n",
    "#     textfile.write(element)\n",
    "# textfile.close()"
   ]
  },
  {
   "cell_type": "code",
   "execution_count": 10,
   "metadata": {
    "id": "N7_kEpZVQhsH"
   },
   "outputs": [],
   "source": [
    "# links = get_links('https://www.sacred-texts.com/hin/rigveda/rv0',1001,1191)\n",
    "# b = get_text_list2(links)\n",
    "# # full_book.append(b)\n",
    "# b"
   ]
  },
  {
   "cell_type": "code",
   "execution_count": 12,
   "metadata": {
    "id": "uuMAWValNo6g"
   },
   "outputs": [],
   "source": [
    "full_book=[]"
   ]
  },
  {
   "cell_type": "code",
   "execution_count": null,
   "metadata": {
    "id": "TiHK6f89L_3Y"
   },
   "outputs": [],
   "source": [
    "links = get_links('https://www.sacred-texts.com/hin/rigveda/rv0',1001,1191)\n",
    "book1 = get_text_list2(links)\n",
    "full_book.append(book1)\n",
    "# book1\n",
    "\n",
    "links = get_links('https://www.sacred-texts.com/hin/rigveda/rv0',2001,2043)\n",
    "book2 = get_text_list2(links)\n",
    "full_book.append(book2)\n",
    "# book2\n",
    "\n",
    "links = get_links('https://www.sacred-texts.com/hin/rigveda/rv0',3001,3062)\n",
    "book3 = get_text_list2(links)\n",
    "full_book.append(book3)\n",
    "# book3\n",
    "\n",
    "links = get_links('https://www.sacred-texts.com/hin/rigveda/rv0',4001,4058)\n",
    "book4 = get_text_list2(links)\n",
    "full_book.append(book4)\n",
    "# book4\n",
    "\n",
    "links = get_links('https://www.sacred-texts.com/hin/rigveda/rv0',5001,5087)\n",
    "book5 = get_text_list2(links)\n",
    "full_book.append(book5)\n",
    "# book5\n",
    "\n",
    "links = get_links('https://www.sacred-texts.com/hin/rigveda/rv0',6001,6075)\n",
    "book6 = get_text_list2(links)\n",
    "full_book.append(book6)\n",
    "# book6\n",
    "\n",
    "links = get_links('https://www.sacred-texts.com/hin/rigveda/rv0',7001,7104)\n",
    "book7 = get_text_list2(links)\n",
    "full_book.append(book7)\n",
    "# book7\n",
    "\n",
    "links = get_links('https://www.sacred-texts.com/hin/rigveda/rv0',8001,8103)\n",
    "book8 = get_text_list2(links)\n",
    "full_book.append(book8)\n",
    "# book8\n",
    "\n",
    "links = get_links('https://www.sacred-texts.com/hin/rigveda/rv0',9001,9114)\n",
    "book9 = get_text_list2(links)\n",
    "full_book.append(book9)\n",
    "# book9\n",
    "\n",
    "links = get_links('https://www.sacred-texts.com/hin/rigveda/rv',10001,10191)\n",
    "book10 = get_text_list2(links)\n",
    "full_book.append(book10)\n",
    "# book10"
   ]
  },
  {
   "cell_type": "code",
   "execution_count": 27,
   "metadata": {
    "id": "_2LOWdXRPsAf"
   },
   "outputs": [],
   "source": [
    "textfile = open(\"rigved_full_eng.txt\", \"w\")\n",
    "for element in full_book:\n",
    "    textfile.write(element+ \"\\n\\n\\n\\n\")\n",
    "textfile.close()"
   ]
  },
  {
   "cell_type": "code",
   "execution_count": null,
   "metadata": {
    "id": "NaOu7zOTSZEs"
   },
   "outputs": [],
   "source": [
    "# full_book[0]"
   ]
  },
  {
   "cell_type": "code",
   "execution_count": 25,
   "metadata": {
    "id": "qI7KzC4aGtcs"
   },
   "outputs": [],
   "source": [
    "# urls=[]\n",
    "# #all_text=[]\n",
    "# base_url=\"https://www.sacred-texts.com/hin/rigveda/rv0\"\n",
    "# for i in range(1001,1191):\n",
    "#   temp=base_url+str(i)+\".htm\"\n",
    "#   urls.append(temp)\n",
    "#   #all_text.append(scrape_p_1(temp))"
   ]
  },
  {
   "cell_type": "code",
   "execution_count": 26,
   "metadata": {
    "id": "-AM6NZqBJ0oL"
   },
   "outputs": [],
   "source": [
    "# all_text=[]\n",
    "# for url in urls:\n",
    "#   all_text.append(scrape_p_1(url))\n"
   ]
  }
 ],
 "metadata": {
  "colab": {
   "name": "Scrapper.ipynb",
   "provenance": []
  },
  "kernelspec": {
   "display_name": "Python 3 (ipykernel)",
   "language": "python",
   "name": "python3"
  },
  "language_info": {
   "codemirror_mode": {
    "name": "ipython",
    "version": 3
   },
   "file_extension": ".py",
   "mimetype": "text/x-python",
   "name": "python",
   "nbconvert_exporter": "python",
   "pygments_lexer": "ipython3",
   "version": "3.7.10"
  }
 },
 "nbformat": 4,
 "nbformat_minor": 1
}
