{
 "cells": [
  {
   "cell_type": "markdown",
   "metadata": {},
   "source": [
    "# Exploratory Analysis on the Anciect Greek Text The Iliad of Homer"
   ]
  },
  {
   "cell_type": "markdown",
   "metadata": {},
   "source": [
    "### Importing required libraries"
   ]
  },
  {
   "cell_type": "code",
   "execution_count": 1,
   "metadata": {},
   "outputs": [],
   "source": [
    "import bs4 as bs\n",
    "import urllib.request\n",
    "import re\n",
    "import nltk\n",
    "import chars2vec\n",
    "\n",
    "import requests\n",
    "from bs4 import BeautifulSoup"
   ]
  },
  {
   "cell_type": "markdown",
   "metadata": {},
   "source": [
    "### Defining Functions"
   ]
  },
  {
   "cell_type": "code",
   "execution_count": 2,
   "metadata": {
    "id": "rbFklGIkMD7l"
   },
   "outputs": [],
   "source": [
    "def get_links(base_url,start_index,end_index):\n",
    "    \"\"\"Getting links for url via index value\"\"\"\n",
    "    urls=[]\n",
    "    for i in range(start_index,end_index+1):\n",
    "        temp=base_url+str(i)+\".htm\"\n",
    "        urls.append(temp)\n",
    "    return urls"
   ]
  },
  {
   "cell_type": "code",
   "execution_count": 3,
   "metadata": {
    "id": "wlvGjEQbGTAC"
   },
   "outputs": [],
   "source": [
    "'''\n",
    "def scrape_p_1(url):\n",
    "    \"\"\"Function to scrape data from HTTP url\"\"\"\n",
    "    page = requests.get(url)\n",
    "    soup = BeautifulSoup(page.content, \"html.parser\")\n",
    "    text = soup.find_all('p')[1].prettify()\n",
    "    my_list = [i.replace('<br>', '').replace('<br/>', '').replace('<p>', '').replace('</p>', '') for i in text.split()]\n",
    "    return ' '.join(my_list)\n"
   ]
  },
  {
   "cell_type": "code",
   "execution_count": 3,
   "metadata": {},
   "outputs": [],
   "source": [
    "def scrape_p_1_v1(url):\n",
    "    \"\"\"Function to scrape data from FTP url\"\"\"\n",
    "    requests_session = requests.session()\n",
    "    requests_session.mount('file://', LocalFileAdapter())\n",
    "    page = requests_session.get(url)\n",
    "    soup = BeautifulSoup(page.content, \"html.parser\")\n",
    "    text = soup.find_all('p')[1].prettify()\n",
    "    my_list = [i.replace('<br>', '').replace('<br/>', '').replace('<p>', '').replace('</p>', '') for i in text.split()]\n",
    "    return ' '.join(my_list)\n"
   ]
  },
  {
   "cell_type": "code",
   "execution_count": 4,
   "metadata": {
    "id": "qIC9e6NhLrj3"
   },
   "outputs": [],
   "source": [
    "def get_text_in_list_format(urls):\n",
    "    \"\"\"Function to append the scrapped raw text in a list\"\"\"\n",
    "    all_text=[]\n",
    "    for url in urls:\n",
    "        all_text.append(scrape_p_1_v1(url))\n",
    "    return all_text"
   ]
  },
  {
   "cell_type": "code",
   "execution_count": 5,
   "metadata": {
    "id": "YD5PRBRCQXde"
   },
   "outputs": [],
   "source": [
    "def get_text_in_string_format(urls):\n",
    "    \"\"\"Function to append the scrapped raw text in a string\"\"\"\n",
    "    all_text=''\n",
    "    for url in urls:\n",
    "        all_text = all_text + scrape_p_1_v1(url)+\"\\n\"\n",
    "    return all_text"
   ]
  },
  {
   "cell_type": "code",
   "execution_count": 6,
   "metadata": {
    "id": "k_PbjxWMQ-KQ"
   },
   "outputs": [],
   "source": [
    "# textfile = open(\"rigved_full_eng.txt\", \"w\")\n",
    "# for element in b:\n",
    "#     textfile.write(element)\n",
    "# textfile.close()"
   ]
  },
  {
   "cell_type": "markdown",
   "metadata": {},
   "source": [
    "### Scrapping data from Public HTML folder using FTP to get the text"
   ]
  },
  {
   "cell_type": "code",
   "execution_count": 7,
   "metadata": {
    "id": "uuMAWValNo6g"
   },
   "outputs": [],
   "source": [
    "full_book=[]"
   ]
  },
  {
   "cell_type": "code",
   "execution_count": 34,
   "metadata": {
    "id": "TiHK6f89L_3Y"
   },
   "outputs": [],
   "source": [
    "links_1st = get_links('file://C:/Users/madpa/Indo-European-language-family-analysis-using-NLP-techniques/dataset/public_html/cla/homer/ili/ili0',1,9)"
   ]
  },
  {
   "cell_type": "code",
   "execution_count": 35,
   "metadata": {},
   "outputs": [],
   "source": [
    "links_2nd = get_links('file://C:/Users/madpa/Indo-European-language-family-analysis-using-NLP-techniques/dataset/public_html/cla/homer/ili/ili',10,24)"
   ]
  },
  {
   "cell_type": "code",
   "execution_count": 36,
   "metadata": {},
   "outputs": [],
   "source": [
    "links_for_book1 = links_1st + links_2nd"
   ]
  },
  {
   "cell_type": "code",
   "execution_count": 37,
   "metadata": {},
   "outputs": [
    {
     "data": {
      "text/plain": [
       "['file://C:/Users/madpa/Indo-European-language-family-analysis-using-NLP-techniques/dataset/public_html/cla/homer/ili/ili01.htm',\n",
       " 'file://C:/Users/madpa/Indo-European-language-family-analysis-using-NLP-techniques/dataset/public_html/cla/homer/ili/ili02.htm',\n",
       " 'file://C:/Users/madpa/Indo-European-language-family-analysis-using-NLP-techniques/dataset/public_html/cla/homer/ili/ili03.htm',\n",
       " 'file://C:/Users/madpa/Indo-European-language-family-analysis-using-NLP-techniques/dataset/public_html/cla/homer/ili/ili04.htm',\n",
       " 'file://C:/Users/madpa/Indo-European-language-family-analysis-using-NLP-techniques/dataset/public_html/cla/homer/ili/ili05.htm',\n",
       " 'file://C:/Users/madpa/Indo-European-language-family-analysis-using-NLP-techniques/dataset/public_html/cla/homer/ili/ili06.htm',\n",
       " 'file://C:/Users/madpa/Indo-European-language-family-analysis-using-NLP-techniques/dataset/public_html/cla/homer/ili/ili07.htm',\n",
       " 'file://C:/Users/madpa/Indo-European-language-family-analysis-using-NLP-techniques/dataset/public_html/cla/homer/ili/ili08.htm',\n",
       " 'file://C:/Users/madpa/Indo-European-language-family-analysis-using-NLP-techniques/dataset/public_html/cla/homer/ili/ili09.htm',\n",
       " 'file://C:/Users/madpa/Indo-European-language-family-analysis-using-NLP-techniques/dataset/public_html/cla/homer/ili/ili10.htm',\n",
       " 'file://C:/Users/madpa/Indo-European-language-family-analysis-using-NLP-techniques/dataset/public_html/cla/homer/ili/ili11.htm',\n",
       " 'file://C:/Users/madpa/Indo-European-language-family-analysis-using-NLP-techniques/dataset/public_html/cla/homer/ili/ili12.htm',\n",
       " 'file://C:/Users/madpa/Indo-European-language-family-analysis-using-NLP-techniques/dataset/public_html/cla/homer/ili/ili13.htm',\n",
       " 'file://C:/Users/madpa/Indo-European-language-family-analysis-using-NLP-techniques/dataset/public_html/cla/homer/ili/ili14.htm',\n",
       " 'file://C:/Users/madpa/Indo-European-language-family-analysis-using-NLP-techniques/dataset/public_html/cla/homer/ili/ili15.htm',\n",
       " 'file://C:/Users/madpa/Indo-European-language-family-analysis-using-NLP-techniques/dataset/public_html/cla/homer/ili/ili16.htm',\n",
       " 'file://C:/Users/madpa/Indo-European-language-family-analysis-using-NLP-techniques/dataset/public_html/cla/homer/ili/ili17.htm',\n",
       " 'file://C:/Users/madpa/Indo-European-language-family-analysis-using-NLP-techniques/dataset/public_html/cla/homer/ili/ili18.htm',\n",
       " 'file://C:/Users/madpa/Indo-European-language-family-analysis-using-NLP-techniques/dataset/public_html/cla/homer/ili/ili19.htm',\n",
       " 'file://C:/Users/madpa/Indo-European-language-family-analysis-using-NLP-techniques/dataset/public_html/cla/homer/ili/ili20.htm',\n",
       " 'file://C:/Users/madpa/Indo-European-language-family-analysis-using-NLP-techniques/dataset/public_html/cla/homer/ili/ili21.htm',\n",
       " 'file://C:/Users/madpa/Indo-European-language-family-analysis-using-NLP-techniques/dataset/public_html/cla/homer/ili/ili22.htm',\n",
       " 'file://C:/Users/madpa/Indo-European-language-family-analysis-using-NLP-techniques/dataset/public_html/cla/homer/ili/ili23.htm',\n",
       " 'file://C:/Users/madpa/Indo-European-language-family-analysis-using-NLP-techniques/dataset/public_html/cla/homer/ili/ili24.htm']"
      ]
     },
     "execution_count": 37,
     "metadata": {},
     "output_type": "execute_result"
    }
   ],
   "source": [
    "links_for_book1"
   ]
  },
  {
   "cell_type": "markdown",
   "metadata": {},
   "source": [
    "#### the length checkouts with the total number of books in the The Iliad of Homer which is 24"
   ]
  },
  {
   "cell_type": "code",
   "execution_count": 38,
   "metadata": {
    "scrolled": true
   },
   "outputs": [
    {
     "data": {
      "text/plain": [
       "24"
      ]
     },
     "execution_count": 38,
     "metadata": {},
     "output_type": "execute_result"
    }
   ],
   "source": [
    "len(links_for_book1)"
   ]
  },
  {
   "cell_type": "markdown",
   "metadata": {},
   "source": [
    "#### Connecting to FTP using Python's requests library"
   ]
  },
  {
   "cell_type": "code",
   "execution_count": 39,
   "metadata": {},
   "outputs": [],
   "source": [
    "from requests_testadapter import Resp"
   ]
  },
  {
   "cell_type": "code",
   "execution_count": 40,
   "metadata": {},
   "outputs": [],
   "source": [
    "import os"
   ]
  },
  {
   "cell_type": "code",
   "execution_count": 41,
   "metadata": {},
   "outputs": [],
   "source": [
    "class LocalFileAdapter(requests.adapters.HTTPAdapter):\n",
    "    def build_response_from_file(self, request):\n",
    "        file_path = request.url[7:]\n",
    "        with open(file_path, 'rb') as file:\n",
    "            buff = bytearray(os.path.getsize(file_path))\n",
    "            file.readinto(buff)\n",
    "            resp = Resp(buff)\n",
    "            r = self.build_response(request, resp)\n",
    "\n",
    "            return r\n",
    "\n",
    "    def send(self, request, stream=False, timeout=None,\n",
    "             verify=True, cert=None, proxies=None):\n",
    "\n",
    "        return self.build_response_from_file(request)"
   ]
  },
  {
   "cell_type": "markdown",
   "metadata": {},
   "source": [
    "#### Example for POC"
   ]
  },
  {
   "cell_type": "code",
   "execution_count": 42,
   "metadata": {},
   "outputs": [],
   "source": [
    "requests_session = requests.session()\n",
    "requests_session.mount('file://', LocalFileAdapter())"
   ]
  },
  {
   "cell_type": "code",
   "execution_count": 43,
   "metadata": {},
   "outputs": [
    {
     "data": {
      "text/plain": [
       "<Response [200]>"
      ]
     },
     "execution_count": 43,
     "metadata": {},
     "output_type": "execute_result"
    }
   ],
   "source": [
    "requests_session.get('file://C:/Users/madpa/Indo-European-language-family-analysis-using-NLP-techniques/dataset/public_html/cla/homer/ili/ili01.htm')"
   ]
  },
  {
   "cell_type": "markdown",
   "metadata": {},
   "source": [
    "## Getting the acient Greek books by Homer"
   ]
  },
  {
   "cell_type": "code",
   "execution_count": 44,
   "metadata": {
    "id": "TiHK6f89L_3Y",
    "scrolled": true
   },
   "outputs": [],
   "source": [
    "book1_str = get_text_in_string_format(links_for_book1)"
   ]
  },
  {
   "cell_type": "code",
   "execution_count": 45,
   "metadata": {
    "scrolled": true
   },
   "outputs": [
    {
     "data": {
      "text/plain": [
       "' Sing, O goddess, the anger of Achilles son of Peleus, that brought countless ills upon the Achaeans. Many a brave soul did it send hurrying down to Hades, and many a hero did it yield a prey to dogs and vultures, for so were the counsels of Jove fulfilled from the day on which the son of Atreus, king of men, and great Achilles, first fell out with one another. \\n Now the other gods and the armed warriors on the plain slept soundly, but Jove was wakeful, for he was thinking how to do honour to Achilles, and destroyed much people at the ships of the Achaeans. In the end he deemed it would be best to send a lying dream to King Agamemnon; so he called one to him and said to it, \"Lying Dream, go to the ships of the Achaeans, into the tent of Agamemnon, and say to him word to word as I now bid you. Tell him to get the Achaeans instantly under arms, for he shall take Troy. There are no longer divided counsels among the gods; Juno has brought them to her own mind, and woe betides the Trojans.\" \\n When the companies were thus arrayed, each under its own captain, the Trojans advanced as a flight of wild fowl or cranes that scream overhead when rain and winter drive them over the flowing waters of Oceanus to bring death and destruction on the Pygmies, and they wrangle in the air as they fly; but the Achaeans marched silently, in high heart, and minded to stand by one another. \\n Now the gods were sitting with Jove in council upon the golden floor while Hebe went round pouring out nectar for them to drink, and as they pledged one another in their cups of gold they looked down upon the town of Troy. The son of Saturn then began to tease Juno, talking at her so as to provoke her. \"Menelaus,\" said he, \"has two good friends among the goddesses, Juno of Argos, and Minerva of Alalcomene, but they only sit still and look on, while Venus keeps ever by Alexandrus\\' side to defend him in any danger; indeed she has just rescued him when he made sure that it was all over with him- for the victory really did lie with Menelaus. We must consider what we shall do about all this; shall we set them fighting anew or make peace between them? If you will agree to this last Menelaus can take back Helen and the city of Priam may remain still inhabited.\" \\n Then Pallas Minerva put valour into the heart of Diomed, son of Tydeus, that he might excel all the other Argives, and cover himself with glory. She made a stream of fire flare from his shield and helmet like the star that shines most brilliantly in summer after its bath in the waters of Oceanus- even such a fire did she kindle upon his head and shoulders as she bade him speed into the thickest hurly-burly of the fight. \\n THE fight between Trojans and Achaeans was now left to rage as it would, and the tide of war surged hither and thither over the plain as they aimed their bronze-shod spears at one another between the streams of Simois and Xanthus. \\n WITH these words Hector passed through the gates, and his brother Alexandrus with him, both eager for the fray. As when heaven sends a breeze to sailors who have long looked for one in vain, and have laboured at their oars till they are faint with toil, even so welcome was the sight of these two heroes to the Trojans. \\n NOW when Morning, clad in her robe of saffron, had begun to suffuse light over the earth, Jove called the gods in council on the topmost crest of serrated Olympus. Then he spoke and all the other gods gave ear. \"Hear me,\" said he, \"gods and goddesses, that I may speak even as I am minded. Let none of you neither goddess nor god try to cross me, but obey me every one of you that I may bring this matter to an end. If I see anyone acting apart and helping either Trojans or Danaans, he shall be beaten inordinately ere he come back again to Olympus; or I will hurl him down into dark Tartarus far into the deepest pit under the earth, where the gates are iron and the floor bronze, as far beneath Hades as heaven is high above the earth, that you may learn how much the mightiest I am among you. Try me and find out for yourselves. Hangs me a golden chain from heaven, and lay hold of it all of you, gods and goddesses together- tug as you will, you will not drag Jove the supreme counsellor from heaven to earth; but were I to pull at it myself I should draw you up with earth and sea into the bargain, then would I bind the chain about some pinnacle of Olympus and leave you all dangling in the mid firmament. So far am I above all others either of gods or men.\" \\n THUS did the Trojans watch. But Panic, comrade of blood-stained Rout, had taken fast hold of the Achaeans and their princes were all of them in despair. As when the two winds that blow from Thrace- the north and the northwest- spring up of a sudden and rouse the fury of the main- in a moment the dark waves uprear their heads and scatter their sea-wrack in all directions- even thus troubled were the hearts of the Achaeans. \\n NOW the other princes of the Achaeans slept soundly the whole night through, but Agamemnon son of Atreus was troubled, so that he could get no rest. As when fair Juno\\'s lord flashes his lightning in token of great rain or hail or snow when the snow-flakes whiten the ground, or again as a sign that he will open the wide jaws of hungry war, even so did Agamemnon heave many a heavy sigh, for his soul trembled within him. When he looked upon the plain of Troy he marvelled at the many watchfires burning in front of Ilius, and at the sound of pipes and flutes and of the hum of men, but when presently he turned towards the ships and hosts of the Achaeans, he tore his hair by handfuls before Jove on high, and groaned aloud for the very disquietness of his soul. In the end he deemed it best to go at once to Nestor son of Neleus, and see if between them they could find any way of the Achaeans from destruction. He therefore rose, put on his shirt, bound his sandals about his comely feet, flung the skin of a huge tawny lion over his shoulders- a skin that reached his feet- and took his spear in his hand. \\n AND now as Dawn rose from her couch beside Tithonus, harbinger of light alike to mortals and immortals, Jove sent fierce Discord with the ensign of war in her hands to the ships of the Achaeans. She took her stand by the huge black hull of Ulysses\\' ship which was middlemost of all, so that her voice might carry farthest on either side, on the one hand towards the tents of Ajax son of Telamon, and on the other towards those of Achilles- for these two heroes, well-assured of their own strength, had valorously drawn up their ships at the two ends of the line. There she took her stand, and raised a cry both loud and shrill that filled the Achaeans with courage, giving them heart to fight resolutely and with all their might, so that they had rather stay there and do battle than go home in their ships. \\n SO THE son of Menoetius was attending to the hurt of Eurypylus within the tent, but the Argives and Trojans still fought desperately, nor were the trench and the high wall above it, to keep the Trojans in check longer. They had built it to protect their ships, and had dug the trench all round it that it might safeguard both the ships and the rich spoils which they had taken, but they had not offered hecatombs to the gods. It had been built without the consent of the immortals, and therefore it did not last. So long as Hector lived and Achilles nursed his anger, and so long as the city of Priam remained untaken, the great wall of the Achaeans stood firm; but when the bravest of the Trojans were no more, and many also of the Argives, though some were yet left alive when, moreover, the city was sacked in the tenth year, and the Argives had gone back with their ships to their own country- then Neptune and Apollo took counsel to destroy the wall, and they turned on to it the streams of all the rivers from Mount Ida into the sea, Rhesus, Heptaporus, Caresus, Rhodius, Grenicus, Aesopus, and goodly Scamander, with Simois, where many a shield and helm had fallen, and many a hero of the race of demigods had bitten the dust. Phoebus Apollo turned the mouths of all these rivers together and made them flow for nine days against the wall, while Jove rained the whole time that he might wash it sooner into the sea. Neptune himself, trident in hand, surveyed the work and threw into the sea all the foundations of beams and stones which the Achaeans had laid with so much toil; he made all level by the mighty stream of the Hellespont, and then when he had swept the wall away he spread a great beach of sand over the place where it had been. This done he turned the rivers back into their old courses. \\n NOW when Jove had thus brought Hector and the Trojans to the ships, he left them to their never-ending toil, and turned his keen eyes away, looking elsewhither towards the horse-breeders of Thrace, the Mysians, fighters at close quarters, the noble Hippemolgi, who live on milk, and the Abians, justest of mankind. He no longer turned so much as a glance towards Troy, for he did not think that any of the immortals would go and help either Trojans or Danaans. \\n NESTOR was sitting over his wine, but the cry of battle did not escape him, and he said to the son of Aesculapius, \"What, noble Machaon, is the meaning of all this? The shouts of men fighting by our ships grow stronger and stronger; stay here, therefore, and sit over your wine, while fair Hecamede heats you a bath and washes the clotted blood from off you. I will go at once to the look-out station and see what it is all about.\" \\n BUT when their flight had taken them past the trench and the set stakes, and many had fallen by the hands of the Danaans, the Trojans made a halt on reaching their chariots, routed and pale with fear. Jove now woke on the crests of Ida, where he was lying with golden-throned Juno by his side, and starting to his feet he saw the Trojans and Achaeans, the one thrown into confusion, and the others driving them pell-mell before them with King Neptune in their midst. He saw Hector lying on the ground with his comrades gathered round him, gasping for breath, wandering in mind and vomiting blood, for it was not the feeblest of the Achaeans who struck him. \\n THUS did they fight about the ship of Protesilaus. Then Patroclus drew near to Achilles with tears welling from his eyes, as from some spring whose crystal stream falls over the ledges of a high precipice. When Achilles saw him thus weeping he was sorry for him and said, \"Why, Patroclus, do you stand there weeping like some silly child that comes running to her mother, and begs to be taken up and carried- she catches hold of her mother\\'s dress to stay her though she is in a hurry, and looks tearfully up until her mother carries her- even such tears, Patroclus, are you now shedding. Have you anything to say to the Myrmidons or to myself? or have you had news from Phthia which you alone know? They tell me Menoetius son of Actor is still alive, as also Peleus son of Aeacus, among the Myrmidons- men whose loss we two should bitterly deplore; or are you grieving about the Argives and the way in which they are being killed at the ships, throu their own high-handed doings? Do not hide anything from me but tell me that both of us may know about it.\" \\n BRAVE Menelaus son of Atreus now came to know that Patroclus had fallen, and made his way through the front ranks clad in full armour to bestride him. As a cow stands lowing over her first calf, even so did yellow-haired Menelaus bestride Patroclus. He held his round shield and his spear in front of him, resolute to kill any who should dare face him. But the son of Panthous had also noted the body, and came up to Menelaus saying, \"Menelaus, son of Atreus, draw back, leave the body, and let the bloodstained spoils be. I was first of the Trojans and their brave allies to drive my spear into Patroclus, let me, therefore, have my full glory among the Trojans, or I will take aim and kill you.\" \\n THUS then did they fight as it were a flaming fire. Meanwhile the fleet runner Antilochus, who had been sent as messenger, reached Achilles, and found him sitting by his tall ships and boding that which was indeed too surely true. \"Alas,\" said he to himself in the heaviness of his heart, \"why are the Achaeans again scouring the plain and flocking towards the ships? Heaven grant the gods be not now bringing that sorrow upon me of which my mother Thetis spoke, saying that while I was yet alive the bravest of the Myrmidons should fall before the Trojans, and see the light of the sun no longer. I fear the brave son of Menoetius has fallen through his own daring and yet I bade him return to the ships as soon as he had driven back those that were bringing fire against them, and not join battle with Hector.\" \\n NOW when Dawn in robe of saffron was hasting from the streams of Oceanus, to bring light to mortals and immortals, Thetis reached the ships with the armour that the god had given her. She found her son fallen about the body of Patroclus and weeping bitterly. Many also of his followers were weeping round him, but when the goddess came among them she clasped his hand in her own, saying, \"My son, grieve as we may we must let this man lie, for it is by heaven\\'s will that he has fallen; now, therefore, accept from Vulcan this rich and goodly armour, which no man has ever yet borne upon his shoulders.\" \\n THUS, then, did the Achaeans arm by their ships round you, O son of Peleus, who were hungering for battle; while the Trojans over against them armed upon the rise of the plain. \\n NOW when they came to the ford of the full-flowing river Xanthus, begotten of immortal Jove, Achilles cut their forces in two: one half he chased over the plain towards the city by the same way that the Achaeans had taken when flying panic-stricken on the preceding day with Hector in full triumph; this way did they fly pell-mell, and Juno sent down a thick mist in front of them to stay them. The other half were hemmed in by the deep silver-eddying stream, and fell into it with a great uproar. The waters resounded, and the banks rang again, as they swam hither and thither with loud cries amid the whirling eddies. As locusts flying to a river before the blast of a grass fire- the flame comes on and on till at last it overtakes them and they huddle into the water- even so was the eddying stream of Xanthus filled with the uproar of men and horses, all struggling in confusion before Achilles. \\n THUS the Trojans in the city, scared like fawns, wiped the sweat from off them and drank to quench their thirst, leaning against the goodly battlements, while the Achaeans with their shields laid upon their shoulders drew close up to the walls. But stern fate bade Hector stay where he was before Ilius and the Scaean gates. Then Phoebus Apollo spoke to the son of Peleus saying, \"Why, son of Peleus, do you, who are but man, give chase to me who am immortal? Have you not yet found out that it is a god whom you pursue so furiously? You did not harass the Trojans whom you had routed, and now they are within their walls, while you have been decoyed hither away from them. Me you cannot kill, for death can take no hold upon me.\" \\n THUS did they make their moan throughout the city, while the Achaeans when they reached the Hellespont went back every man to his own ship. But Achilles would not let the Myrmidons go, and spoke to his brave comrades saying, \"Myrmidons, famed horsemen and my own trusted friends, not yet, forsooth, let us unyoke, but with horse and chariot draw near to the body and mourn Patroclus, in due honour to the dead. When we have had full comfort of lamentation we will unyoke our horses and take supper all of us here.\" \\n THE assembly now broke up and the people went their ways each to his own ship. There they made ready their supper, and then bethought them of the blessed boon of sleep; but Achilles still wept for thinking of his dear comrade, and sleep, before whom all things bow, could take no hold upon him. This way and that did he turn as he yearned after the might and manfulness of Patroclus; he thought of all they had done together, and all they had gone through both on the field of battle and on the waves of the weary sea. As he dwelt on these things he wept bitterly and lay now on his side, now on his back, and now face downwards, till at last he rose and went out as one distraught to wander upon the seashore. Then, when he saw dawn breaking over beach and sea, he yoked his horses to his chariot, and bound the body of Hector behind it that he might drag it about. Thrice did he drag it round the tomb of the son of Menoetius, and then went back into his tent, leaving the body on the ground full length and with its face downwards. But Apollo would not suffer it to be disfigured, for he pitied the man, dead though he now was; therefore he shielded him with his golden aegis continually, that he might take no hurt while Achilles was dragging him. \\n'"
      ]
     },
     "execution_count": 45,
     "metadata": {},
     "output_type": "execute_result"
    }
   ],
   "source": [
    "book1_str"
   ]
  },
  {
   "cell_type": "code",
   "execution_count": 50,
   "metadata": {},
   "outputs": [
    {
     "data": {
      "text/plain": [
       "16991"
      ]
     },
     "execution_count": 50,
     "metadata": {},
     "output_type": "execute_result"
    }
   ],
   "source": [
    "len(book1_str)"
   ]
  },
  {
   "cell_type": "code",
   "execution_count": 46,
   "metadata": {},
   "outputs": [],
   "source": [
    "book1_list = get_text_in_list_format(links_for_book1)"
   ]
  },
  {
   "cell_type": "code",
   "execution_count": 47,
   "metadata": {},
   "outputs": [
    {
     "data": {
      "text/plain": [
       "[' Sing, O goddess, the anger of Achilles son of Peleus, that brought countless ills upon the Achaeans. Many a brave soul did it send hurrying down to Hades, and many a hero did it yield a prey to dogs and vultures, for so were the counsels of Jove fulfilled from the day on which the son of Atreus, king of men, and great Achilles, first fell out with one another. ',\n",
       " ' Now the other gods and the armed warriors on the plain slept soundly, but Jove was wakeful, for he was thinking how to do honour to Achilles, and destroyed much people at the ships of the Achaeans. In the end he deemed it would be best to send a lying dream to King Agamemnon; so he called one to him and said to it, \"Lying Dream, go to the ships of the Achaeans, into the tent of Agamemnon, and say to him word to word as I now bid you. Tell him to get the Achaeans instantly under arms, for he shall take Troy. There are no longer divided counsels among the gods; Juno has brought them to her own mind, and woe betides the Trojans.\" ',\n",
       " ' When the companies were thus arrayed, each under its own captain, the Trojans advanced as a flight of wild fowl or cranes that scream overhead when rain and winter drive them over the flowing waters of Oceanus to bring death and destruction on the Pygmies, and they wrangle in the air as they fly; but the Achaeans marched silently, in high heart, and minded to stand by one another. ',\n",
       " ' Now the gods were sitting with Jove in council upon the golden floor while Hebe went round pouring out nectar for them to drink, and as they pledged one another in their cups of gold they looked down upon the town of Troy. The son of Saturn then began to tease Juno, talking at her so as to provoke her. \"Menelaus,\" said he, \"has two good friends among the goddesses, Juno of Argos, and Minerva of Alalcomene, but they only sit still and look on, while Venus keeps ever by Alexandrus\\' side to defend him in any danger; indeed she has just rescued him when he made sure that it was all over with him- for the victory really did lie with Menelaus. We must consider what we shall do about all this; shall we set them fighting anew or make peace between them? If you will agree to this last Menelaus can take back Helen and the city of Priam may remain still inhabited.\" ',\n",
       " ' Then Pallas Minerva put valour into the heart of Diomed, son of Tydeus, that he might excel all the other Argives, and cover himself with glory. She made a stream of fire flare from his shield and helmet like the star that shines most brilliantly in summer after its bath in the waters of Oceanus- even such a fire did she kindle upon his head and shoulders as she bade him speed into the thickest hurly-burly of the fight. ',\n",
       " ' THE fight between Trojans and Achaeans was now left to rage as it would, and the tide of war surged hither and thither over the plain as they aimed their bronze-shod spears at one another between the streams of Simois and Xanthus. ',\n",
       " ' WITH these words Hector passed through the gates, and his brother Alexandrus with him, both eager for the fray. As when heaven sends a breeze to sailors who have long looked for one in vain, and have laboured at their oars till they are faint with toil, even so welcome was the sight of these two heroes to the Trojans. ',\n",
       " ' NOW when Morning, clad in her robe of saffron, had begun to suffuse light over the earth, Jove called the gods in council on the topmost crest of serrated Olympus. Then he spoke and all the other gods gave ear. \"Hear me,\" said he, \"gods and goddesses, that I may speak even as I am minded. Let none of you neither goddess nor god try to cross me, but obey me every one of you that I may bring this matter to an end. If I see anyone acting apart and helping either Trojans or Danaans, he shall be beaten inordinately ere he come back again to Olympus; or I will hurl him down into dark Tartarus far into the deepest pit under the earth, where the gates are iron and the floor bronze, as far beneath Hades as heaven is high above the earth, that you may learn how much the mightiest I am among you. Try me and find out for yourselves. Hangs me a golden chain from heaven, and lay hold of it all of you, gods and goddesses together- tug as you will, you will not drag Jove the supreme counsellor from heaven to earth; but were I to pull at it myself I should draw you up with earth and sea into the bargain, then would I bind the chain about some pinnacle of Olympus and leave you all dangling in the mid firmament. So far am I above all others either of gods or men.\" ',\n",
       " ' THUS did the Trojans watch. But Panic, comrade of blood-stained Rout, had taken fast hold of the Achaeans and their princes were all of them in despair. As when the two winds that blow from Thrace- the north and the northwest- spring up of a sudden and rouse the fury of the main- in a moment the dark waves uprear their heads and scatter their sea-wrack in all directions- even thus troubled were the hearts of the Achaeans. ',\n",
       " \" NOW the other princes of the Achaeans slept soundly the whole night through, but Agamemnon son of Atreus was troubled, so that he could get no rest. As when fair Juno's lord flashes his lightning in token of great rain or hail or snow when the snow-flakes whiten the ground, or again as a sign that he will open the wide jaws of hungry war, even so did Agamemnon heave many a heavy sigh, for his soul trembled within him. When he looked upon the plain of Troy he marvelled at the many watchfires burning in front of Ilius, and at the sound of pipes and flutes and of the hum of men, but when presently he turned towards the ships and hosts of the Achaeans, he tore his hair by handfuls before Jove on high, and groaned aloud for the very disquietness of his soul. In the end he deemed it best to go at once to Nestor son of Neleus, and see if between them they could find any way of the Achaeans from destruction. He therefore rose, put on his shirt, bound his sandals about his comely feet, flung the skin of a huge tawny lion over his shoulders- a skin that reached his feet- and took his spear in his hand. \",\n",
       " \" AND now as Dawn rose from her couch beside Tithonus, harbinger of light alike to mortals and immortals, Jove sent fierce Discord with the ensign of war in her hands to the ships of the Achaeans. She took her stand by the huge black hull of Ulysses' ship which was middlemost of all, so that her voice might carry farthest on either side, on the one hand towards the tents of Ajax son of Telamon, and on the other towards those of Achilles- for these two heroes, well-assured of their own strength, had valorously drawn up their ships at the two ends of the line. There she took her stand, and raised a cry both loud and shrill that filled the Achaeans with courage, giving them heart to fight resolutely and with all their might, so that they had rather stay there and do battle than go home in their ships. \",\n",
       " ' SO THE son of Menoetius was attending to the hurt of Eurypylus within the tent, but the Argives and Trojans still fought desperately, nor were the trench and the high wall above it, to keep the Trojans in check longer. They had built it to protect their ships, and had dug the trench all round it that it might safeguard both the ships and the rich spoils which they had taken, but they had not offered hecatombs to the gods. It had been built without the consent of the immortals, and therefore it did not last. So long as Hector lived and Achilles nursed his anger, and so long as the city of Priam remained untaken, the great wall of the Achaeans stood firm; but when the bravest of the Trojans were no more, and many also of the Argives, though some were yet left alive when, moreover, the city was sacked in the tenth year, and the Argives had gone back with their ships to their own country- then Neptune and Apollo took counsel to destroy the wall, and they turned on to it the streams of all the rivers from Mount Ida into the sea, Rhesus, Heptaporus, Caresus, Rhodius, Grenicus, Aesopus, and goodly Scamander, with Simois, where many a shield and helm had fallen, and many a hero of the race of demigods had bitten the dust. Phoebus Apollo turned the mouths of all these rivers together and made them flow for nine days against the wall, while Jove rained the whole time that he might wash it sooner into the sea. Neptune himself, trident in hand, surveyed the work and threw into the sea all the foundations of beams and stones which the Achaeans had laid with so much toil; he made all level by the mighty stream of the Hellespont, and then when he had swept the wall away he spread a great beach of sand over the place where it had been. This done he turned the rivers back into their old courses. ',\n",
       " ' NOW when Jove had thus brought Hector and the Trojans to the ships, he left them to their never-ending toil, and turned his keen eyes away, looking elsewhither towards the horse-breeders of Thrace, the Mysians, fighters at close quarters, the noble Hippemolgi, who live on milk, and the Abians, justest of mankind. He no longer turned so much as a glance towards Troy, for he did not think that any of the immortals would go and help either Trojans or Danaans. ',\n",
       " ' NESTOR was sitting over his wine, but the cry of battle did not escape him, and he said to the son of Aesculapius, \"What, noble Machaon, is the meaning of all this? The shouts of men fighting by our ships grow stronger and stronger; stay here, therefore, and sit over your wine, while fair Hecamede heats you a bath and washes the clotted blood from off you. I will go at once to the look-out station and see what it is all about.\" ',\n",
       " ' BUT when their flight had taken them past the trench and the set stakes, and many had fallen by the hands of the Danaans, the Trojans made a halt on reaching their chariots, routed and pale with fear. Jove now woke on the crests of Ida, where he was lying with golden-throned Juno by his side, and starting to his feet he saw the Trojans and Achaeans, the one thrown into confusion, and the others driving them pell-mell before them with King Neptune in their midst. He saw Hector lying on the ground with his comrades gathered round him, gasping for breath, wandering in mind and vomiting blood, for it was not the feeblest of the Achaeans who struck him. ',\n",
       " ' THUS did they fight about the ship of Protesilaus. Then Patroclus drew near to Achilles with tears welling from his eyes, as from some spring whose crystal stream falls over the ledges of a high precipice. When Achilles saw him thus weeping he was sorry for him and said, \"Why, Patroclus, do you stand there weeping like some silly child that comes running to her mother, and begs to be taken up and carried- she catches hold of her mother\\'s dress to stay her though she is in a hurry, and looks tearfully up until her mother carries her- even such tears, Patroclus, are you now shedding. Have you anything to say to the Myrmidons or to myself? or have you had news from Phthia which you alone know? They tell me Menoetius son of Actor is still alive, as also Peleus son of Aeacus, among the Myrmidons- men whose loss we two should bitterly deplore; or are you grieving about the Argives and the way in which they are being killed at the ships, throu their own high-handed doings? Do not hide anything from me but tell me that both of us may know about it.\" ',\n",
       " ' BRAVE Menelaus son of Atreus now came to know that Patroclus had fallen, and made his way through the front ranks clad in full armour to bestride him. As a cow stands lowing over her first calf, even so did yellow-haired Menelaus bestride Patroclus. He held his round shield and his spear in front of him, resolute to kill any who should dare face him. But the son of Panthous had also noted the body, and came up to Menelaus saying, \"Menelaus, son of Atreus, draw back, leave the body, and let the bloodstained spoils be. I was first of the Trojans and their brave allies to drive my spear into Patroclus, let me, therefore, have my full glory among the Trojans, or I will take aim and kill you.\" ',\n",
       " ' THUS then did they fight as it were a flaming fire. Meanwhile the fleet runner Antilochus, who had been sent as messenger, reached Achilles, and found him sitting by his tall ships and boding that which was indeed too surely true. \"Alas,\" said he to himself in the heaviness of his heart, \"why are the Achaeans again scouring the plain and flocking towards the ships? Heaven grant the gods be not now bringing that sorrow upon me of which my mother Thetis spoke, saying that while I was yet alive the bravest of the Myrmidons should fall before the Trojans, and see the light of the sun no longer. I fear the brave son of Menoetius has fallen through his own daring and yet I bade him return to the ships as soon as he had driven back those that were bringing fire against them, and not join battle with Hector.\" ',\n",
       " ' NOW when Dawn in robe of saffron was hasting from the streams of Oceanus, to bring light to mortals and immortals, Thetis reached the ships with the armour that the god had given her. She found her son fallen about the body of Patroclus and weeping bitterly. Many also of his followers were weeping round him, but when the goddess came among them she clasped his hand in her own, saying, \"My son, grieve as we may we must let this man lie, for it is by heaven\\'s will that he has fallen; now, therefore, accept from Vulcan this rich and goodly armour, which no man has ever yet borne upon his shoulders.\" ',\n",
       " ' THUS, then, did the Achaeans arm by their ships round you, O son of Peleus, who were hungering for battle; while the Trojans over against them armed upon the rise of the plain. ',\n",
       " ' NOW when they came to the ford of the full-flowing river Xanthus, begotten of immortal Jove, Achilles cut their forces in two: one half he chased over the plain towards the city by the same way that the Achaeans had taken when flying panic-stricken on the preceding day with Hector in full triumph; this way did they fly pell-mell, and Juno sent down a thick mist in front of them to stay them. The other half were hemmed in by the deep silver-eddying stream, and fell into it with a great uproar. The waters resounded, and the banks rang again, as they swam hither and thither with loud cries amid the whirling eddies. As locusts flying to a river before the blast of a grass fire- the flame comes on and on till at last it overtakes them and they huddle into the water- even so was the eddying stream of Xanthus filled with the uproar of men and horses, all struggling in confusion before Achilles. ',\n",
       " ' THUS the Trojans in the city, scared like fawns, wiped the sweat from off them and drank to quench their thirst, leaning against the goodly battlements, while the Achaeans with their shields laid upon their shoulders drew close up to the walls. But stern fate bade Hector stay where he was before Ilius and the Scaean gates. Then Phoebus Apollo spoke to the son of Peleus saying, \"Why, son of Peleus, do you, who are but man, give chase to me who am immortal? Have you not yet found out that it is a god whom you pursue so furiously? You did not harass the Trojans whom you had routed, and now they are within their walls, while you have been decoyed hither away from them. Me you cannot kill, for death can take no hold upon me.\" ',\n",
       " ' THUS did they make their moan throughout the city, while the Achaeans when they reached the Hellespont went back every man to his own ship. But Achilles would not let the Myrmidons go, and spoke to his brave comrades saying, \"Myrmidons, famed horsemen and my own trusted friends, not yet, forsooth, let us unyoke, but with horse and chariot draw near to the body and mourn Patroclus, in due honour to the dead. When we have had full comfort of lamentation we will unyoke our horses and take supper all of us here.\" ',\n",
       " ' THE assembly now broke up and the people went their ways each to his own ship. There they made ready their supper, and then bethought them of the blessed boon of sleep; but Achilles still wept for thinking of his dear comrade, and sleep, before whom all things bow, could take no hold upon him. This way and that did he turn as he yearned after the might and manfulness of Patroclus; he thought of all they had done together, and all they had gone through both on the field of battle and on the waves of the weary sea. As he dwelt on these things he wept bitterly and lay now on his side, now on his back, and now face downwards, till at last he rose and went out as one distraught to wander upon the seashore. Then, when he saw dawn breaking over beach and sea, he yoked his horses to his chariot, and bound the body of Hector behind it that he might drag it about. Thrice did he drag it round the tomb of the son of Menoetius, and then went back into his tent, leaving the body on the ground full length and with its face downwards. But Apollo would not suffer it to be disfigured, for he pitied the man, dead though he now was; therefore he shielded him with his golden aegis continually, that he might take no hurt while Achilles was dragging him. ']"
      ]
     },
     "execution_count": 47,
     "metadata": {},
     "output_type": "execute_result"
    }
   ],
   "source": [
    "book1_list"
   ]
  },
  {
   "cell_type": "code",
   "execution_count": 48,
   "metadata": {},
   "outputs": [
    {
     "data": {
      "text/plain": [
       "24"
      ]
     },
     "execution_count": 48,
     "metadata": {},
     "output_type": "execute_result"
    }
   ],
   "source": [
    "len(book1_list)"
   ]
  },
  {
   "cell_type": "code",
   "execution_count": 55,
   "metadata": {},
   "outputs": [
    {
     "data": {
      "text/plain": [
       "' Sing, O goddess, the anger of Achilles son of Peleus, that brought countless ills upon the Achaeans. Many a brave soul did it send hurrying down to Hades, and many a hero did it yield a prey to dogs and vultures, for so were the counsels of Jove fulfilled from the day on which the son of Atreus, king of men, and great Achilles, first fell out with one another. '"
      ]
     },
     "execution_count": 55,
     "metadata": {},
     "output_type": "execute_result"
    }
   ],
   "source": [
    "book1_list[0]"
   ]
  },
  {
   "cell_type": "code",
   "execution_count": 57,
   "metadata": {},
   "outputs": [
    {
     "data": {
      "text/plain": [
       "'e'"
      ]
     },
     "execution_count": 57,
     "metadata": {},
     "output_type": "execute_result"
    }
   ],
   "source": [
    "book1_str[90]\n",
    "\n"
   ]
  },
  {
   "cell_type": "markdown",
   "metadata": {},
   "source": [
    "# **Placing bookmark to Continue from here**"
   ]
  },
  {
   "cell_type": "code",
   "execution_count": null,
   "metadata": {},
   "outputs": [],
   "source": []
  }
 ],
 "metadata": {
  "colab": {
   "name": "Scrapper.ipynb",
   "provenance": []
  },
  "kernelspec": {
   "display_name": "Python 3 (ipykernel)",
   "language": "python",
   "name": "python3"
  },
  "language_info": {
   "codemirror_mode": {
    "name": "ipython",
    "version": 3
   },
   "file_extension": ".py",
   "mimetype": "text/x-python",
   "name": "python",
   "nbconvert_exporter": "python",
   "pygments_lexer": "ipython3",
   "version": "3.7.10"
  }
 },
 "nbformat": 4,
 "nbformat_minor": 1
}
